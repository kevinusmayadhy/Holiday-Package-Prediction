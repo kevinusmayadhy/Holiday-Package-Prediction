{
 "cells": [
  {
   "cell_type": "markdown",
   "metadata": {},
   "source": [
    "# **Holiday Package Prediction**"
   ]
  },
  {
   "cell_type": "markdown",
   "metadata": {},
   "source": [
    "## **Data Understanding**"
   ]
  },
  {
   "cell_type": "markdown",
   "metadata": {},
   "source": [
    "The dataset used in this analysis is sourced from Kaggle, titled [Holiday Package Prediction](https://www.kaggle.com/datasets/susant4learning/holiday-package-purchase-prediction). It contains 4888 rows and 20 columns. The dataset includes the following columns:\n",
    "\n",
    "1. **CustomerID**: Unique identifier for each customer.\n",
    "2. **ProdTaken**: Indicates whether the product was taken (True/False).\n",
    "3. **Age**: Age of customer.\n",
    "4. **TypeofContact**: How customer was contacted (Company Invited or Self Inquiry).\n",
    "5. **CityTier**: City tier depends on the development of a city, population, facilities, and living standards. The categories are ordered.\n",
    "6. **DurationOfPitch**: Duration of the pitch by a salesperson to the customer.\n",
    "7. **Occupation**: Occupation of customer.\n",
    "8. **Gender**: Gender of customer.\n",
    "9. **NumberOfPersonVisiting**: Total number of persons planning to take the trip with the customer.\n",
    "10. **NumberOfFollowups**: Total number of follow-ups has been done by the salesperson after the sales pitch.\n",
    "11. **ProductPitched**: Product pitched by the salesperson.\n",
    "12. **PreferredPropertyStar**: Preferred hotel property rating by customer.\n",
    "13. **MaritalStatus**: Marital status of customer.\n",
    "14. **NumberOfTrips**: Average number of trips in a year by customer.\n",
    "15. **Passport**: Indicates if the customer has a passport (0: No, 1: Yes).\n",
    "16. **PitchSatisfactionScore**: Satisfaction score of the sales pitch.\n",
    "17. **OwnCar**: Indicates if the customer owns a car (0: No, 1: Yes).\n",
    "18. **NumberOfChildrenVisiting**: Total number of children with age less than 5 planning to take the trip with the customer.\n",
    "19. **Designation**: Job title of the customer in their current organization.\n",
    "20. **MonthlyIncome**: Gross monthly income of the customer."
   ]
  },
  {
   "cell_type": "markdown",
   "metadata": {},
   "source": [
    "## **Context**"
   ]
  },
  {
   "cell_type": "code",
   "execution_count": null,
   "metadata": {},
   "outputs": [],
   "source": []
  }
 ],
 "metadata": {
  "language_info": {
   "name": "python"
  }
 },
 "nbformat": 4,
 "nbformat_minor": 2
}
